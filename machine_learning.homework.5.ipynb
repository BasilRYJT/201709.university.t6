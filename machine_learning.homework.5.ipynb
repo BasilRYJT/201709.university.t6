{
 "cells": [
  {
   "cell_type": "markdown",
   "metadata": {},
   "source": [
    "# Question 1\n",
    "\n",
    "**Without any prior information:**  \n",
    "A is independent of F, because the two nodes are seperated prior to H and I   \n",
    "\n",
    "**Given C and I:**  \n",
    "If C and I are known, that means the value of A in relation of F has already been defined (and vice versa). Therefore, it A is no longer independent of F.   \n",
    "\n"
   ]
  },
  {
   "cell_type": "markdown",
   "metadata": {},
   "source": [
    "# Question 2\n",
    "\n",
    "**The effective number of parameters needed:** \n",
    "- **A, B, C, D, F :** $5\\times1 = 5$\n",
    "- **E :** $2^3 = 8$\n",
    "- **G, H, I :** $3\\times2^2 = 12$\n",
    "- **Total:** $25$\n",
    "\n",
    "**Given:**  \n",
    "- D, F $\\in$ {1, 2, 3, 4, 5}\n",
    "- A, B, C, E, G, H, I $\\in$ {1, 2, 3}\n",
    "\n",
    "**The _new_ effective number of parameters needed:**  \n",
    "- **A, B, C :** $3\\times2 = 6$\n",
    "- **D, F :** $2\\times4 = 8$\n",
    "- **E :** $2\\times27 = 54$\n",
    "- **G, H :** $2\\times2\\times15 = 60$\n",
    "- **I :** $2\\times9 = 18$\n",
    "- **Total:** $146$\n",
    "\n"
   ]
  },
  {
   "cell_type": "markdown",
   "metadata": {},
   "source": [
    "# Question 3\n",
    "\n",
    "$$\\begin{aligned}\\Pr(E=2 | C=1)&=\\Pr(E=2|A=1, B=1)\\cdot\\Pr(A=1)\\cdot\\Pr(B=1)\\\\&+\\Pr(E=2|A=1,B=2)\\cdot\\Pr(A=1)\\cdot\\Pr(B=2)\\\\&+\\Pr(E=2|A=2,B=1)\\cdot\\Pr(A=2)\\cdot\\Pr(B=1)\\\\&+\\Pr(E=2|A=2,B=2)\\cdot\\Pr(A=2)\\cdot\\Pr(B=2)\\\\&= 0.332\\end{aligned}$$"
   ]
  },
  {
   "cell_type": "markdown",
   "metadata": {},
   "source": [
    "# Question 4\n",
    "\n",
    "**Based on the data given:**  \n",
    "$\\Pr(A=1)=\\frac{7}{12}$  \n",
    "$\\Pr(A=2)=\\frac{5}{12}$\n",
    "\n",
    "$\\Pr(H=1|E=1,F=1)=1$  \n",
    "$\\Pr(H=2|E=1,F=1)=0$  \n",
    "$\\Pr(H=1|E=1,F=2)=\\frac{2}{3}$  \n",
    "$\\Pr(H=2|E=1,F=2)=\\frac{1}{3}$  \n",
    "$\\Pr(H=1|E=2,F=1)=\\frac{2}{3}$  \n",
    "$\\Pr(H=2|E=2,F=1)=\\frac{1}{3}$  \n",
    "$\\Pr(H=1|E=2,F=2)=\\frac{1}{2}$  \n",
    "$\\Pr(H=2|E=2,F=2)=\\frac{1}{2}$  "
   ]
  },
  {
   "cell_type": "markdown",
   "metadata": {},
   "source": [
    "# Question 5\n",
    "\n",
    "**Before the removal of E(H, I):**  \n",
    "$\\Pr(I=1|G=1,H=1)=\\frac{1}{2}$  \n",
    "$\\Pr(I=2|G=1,H=1)=\\frac{1}{2}$  \n",
    "$\\Pr(I=1|G=1,H=2)=\\frac{1}{2}$  \n",
    "$\\Pr(I=2|G=1,H=2)=\\frac{1}{2}$  \n",
    "$\\Pr(I=1|G=2,H=1)=\\frac{1}{2}$  \n",
    "$\\Pr(I=2|G=2,H=1)=\\frac{1}{2}$  \n",
    "$\\Pr(I=1|G=2,H=2)=\\frac{1}{2}$  \n",
    "$\\Pr(I=2|G=2,H=2)=\\frac{1}{2}$  \n",
    "\n",
    "**After the removal og E(H, I):**  \n",
    "$\\Pr(I=1|G=1)=\\frac{1}{2}$  \n",
    "$\\Pr(I=2|G=1)=\\frac{1}{2}$  \n",
    "$\\Pr(I=1|G=2)=\\frac{1}{2}$  \n",
    "$\\Pr(I=2|G=2)=\\frac{1}{2}$  \n",
    "\n",
    "**Number of parameters:** $1\\times4=4$  \n",
    "_note: the combination of other nodes do not change the value of I_  \n",
    "\n",
    "$\\begin{aligned}BIC&=\\ln(n)k-2\\ln(\\hat L)\\\\&=\\ln(12)\\times4-2\\ln(1)\\end{aligned}$\n"
   ]
  }
 ],
 "metadata": {
  "kernelspec": {
   "display_name": "Python [default]",
   "language": "python",
   "name": "python3"
  },
  "language_info": {
   "codemirror_mode": {
    "name": "ipython",
    "version": 3
   },
   "file_extension": ".py",
   "mimetype": "text/x-python",
   "name": "python",
   "nbconvert_exporter": "python",
   "pygments_lexer": "ipython3",
   "version": "3.6.3"
  }
 },
 "nbformat": 4,
 "nbformat_minor": 2
}
