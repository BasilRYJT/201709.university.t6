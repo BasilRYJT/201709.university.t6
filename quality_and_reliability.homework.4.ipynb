{
 "cells": [
  {
   "cell_type": "markdown",
   "metadata": {},
   "source": [
    "# Question 1\n",
    "\n",
    "## Part 1a\n",
    "\n",
    "$\\text{MTTF}_{\\text{comp}} = 3000$  \n",
    "$\\lambda=\\frac{1}{3000}$  \n",
    "$\\begin{aligned}\\text{R}_{\\text{sub}}&=1-\\left[1-e^{-\\frac{2500}{3000}}\\right]^4\\\\&=0.8978\\end{aligned}$ \n",
    "\n",
    "## Part 1b\n",
    "\n",
    "$\\begin{aligned}\\text{MTTF}_{\\text{sub}} &= 3000\\left[1+\\frac{1}{2}+\\frac{1}{3}+\\frac{1}{4}\\right]\\\\&=6250\\end{aligned}$  \n",
    "\n",
    "## Part 1c\n",
    "\n",
    "   \n",
    "\n",
    "Given  $\\text{MTTF}_{\\text{sub}}=6600$ ,  \n",
    "$\\begin{aligned}6600 &= \\frac{1}{\\lambda}\\left[1+\\frac{1}{2}+\\frac{1}{3}+\\frac{1}{4}\\right]\\\\&= 3.156\\times10^{-4}\\end{aligned}$  \n",
    "$\\text{MTTF}_{\\text{comp}} = 3168$"
   ]
  },
  {
   "cell_type": "markdown",
   "metadata": {},
   "source": [
    "# Question 2 \n",
    "\n",
    "## Part 2a\n",
    "\n",
    "$\\begin{aligned}\\text{R}_{A, B}&=1-(1-0.86)(1-0.92)\\\\&=0.9888\\end{aligned}$  \n",
    "$\\begin{aligned}\\text{R}_{E, F, G}&=1-(1-(0.95)(0.88))(1-0.93)\\\\&=0.9885\\end{aligned}$  \n",
    "$\\begin{aligned}\\text{R}_{s}&=(0.9888)(0.94)(0.89)(0.9885)\\\\&=0.8177\\end{aligned}$  \n",
    "\n",
    "## Part 2b\n",
    "\n",
    "The system is highly dependent on the performance of node C and D, improving their reliabilities would improve the reliability of the system."
   ]
  },
  {
   "cell_type": "markdown",
   "metadata": {},
   "source": [
    "# Question 3\n",
    "\n",
    "## Part 3a\n",
    "\n",
    "![OC Curve](./assets/201712061252.PNG)\n",
    "\n",
    "## Part 3b\n",
    "\n",
    "For a producer's risk of 0.05, the associated quality level of batches is about 3500.\n",
    "\n",
    "## Part 3c\n",
    "\n",
    "For a consumer's risk of 0.10, the associated quality level of batches is about 700.\n"
   ]
  }
 ],
 "metadata": {
  "kernelspec": {
   "display_name": "Python [default]",
   "language": "python",
   "name": "python3"
  },
  "language_info": {
   "codemirror_mode": {
    "name": "ipython",
    "version": 3
   },
   "file_extension": ".py",
   "mimetype": "text/x-python",
   "name": "python",
   "nbconvert_exporter": "python",
   "pygments_lexer": "ipython3",
   "version": "3.6.3"
  }
 },
 "nbformat": 4,
 "nbformat_minor": 2
}
