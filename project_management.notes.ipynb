{
 "cells": [
  {
   "cell_type": "markdown",
   "metadata": {},
   "source": [
    "# Overview\n",
    "\n",
    "- Lesson 1: Introduction\n",
    "    - \n",
    "\n"
   ]
  },
  {
   "cell_type": "markdown",
   "metadata": {},
   "source": [
    "\n",
    "\n",
    "# Lesson 1: Introduction\n",
    "\n",
    "## Transformation Process\n",
    "\n",
    "We can represent operations as a system of transformation processes "
   ]
  },
  {
   "cell_type": "markdown",
   "metadata": {},
   "source": [
    "![Example of a Transformation Process](./assets/201711232039.PNG)\n",
    "\n"
   ]
  },
  {
   "cell_type": "markdown",
   "metadata": {},
   "source": [
    "\n",
    "### Types of Transformation Process\n",
    "\n",
    "- **Physical:** Manufacturing operations\n",
    "- **Locational:** Transportation operations\n",
    "- **Exchange:** Retail operations\n",
    "- **Physiological:** as in Healthcare\n",
    "- **Psychological:** as in Entertainment\n",
    "- **Informational:** as in Communication\n",
    "\n"
   ]
  },
  {
   "cell_type": "markdown",
   "metadata": {},
   "source": [
    "## Defining Projects\n",
    "\n",
    "**Projects are a set of tasks that:**\n",
    "- relate to one another\n",
    "- have specific objectives to be completed with specific specifications\n",
    "- have start and end dates\n",
    "- have funding limits\n",
    "- consume resources\n",
    "\n",
    "**Projects can create:**\n",
    "- A product\n",
    "- A service\n",
    "- Improvements to existing products  \n",
    "  \n",
    "**Note: projects are not to be confused with repetitive/routine tasks**\n"
   ]
  },
  {
   "cell_type": "markdown",
   "metadata": {},
   "source": [
    "\n",
    "## Project Life Cycle\n",
    "\n",
    "![Project Life Cycle Diagram](./assets/201711232103.PNG)"
   ]
  },
  {
   "cell_type": "markdown",
   "metadata": {},
   "source": [
    "### Stages\n",
    "\n",
    "- **Defining Stage:**\n",
    "    - Project Objectives established\n",
    "    - Teams formed\n",
    "    - Major responsibilities assigned\n",
    "- **Planning:**\n",
    "    - Project schedule set\n",
    "    - Project budget set\n",
    "- **Executing stage:**\n",
    "    - Majority of tasks completed\n",
    "- **Closing stage:**\n",
    "    - Product delivered\n",
    "    - Resources reassigned\n",
    "    "
   ]
  },
  {
   "cell_type": "markdown",
   "metadata": {},
   "source": [
    "## Project Constraints\n",
    "\n",
    "Conflicting interest between scope / cost / time\n"
   ]
  },
  {
   "cell_type": "markdown",
   "metadata": {},
   "source": [
    "![Project Contraint Triangle](./assets/201711232126.PNG)\n",
    "\n",
    "- **Scope:** Deliverables, Quality, Customer Satisfaction\n",
    "- **Time:** Deadline\n",
    "- **Cost:** Budget, Resources\n",
    "\n",
    "Usually projects have one of the above as their major constraint.\n"
   ]
  },
  {
   "cell_type": "markdown",
   "metadata": {},
   "source": [
    "# Lesson 2: Critical Path Methods\n",
    "\n",
    "**Five easy steps to plan a project:**\n",
    "1. Define work breakdown structure\n",
    "2. Estimate task time\n",
    "3. Establish task precedence relationship\n",
    "4. Draw network diagram\n",
    "5. Analyze network diagram to establish:\n",
    "    - Project duration\n",
    "    - Critical paths\n",
    "    - Critical activities\n",
    "\n",
    "**Work Breakdown Structure:**\n",
    "- all tasks needed to be completed\n",
    "- tasks which are the smallest unit of work effort which project manager can control\n",
    "- each task must have an owner to take responsibility\n",
    "\n",
    "**Critical Path Methods (CPM)**\n",
    "- technique used to identify project duration\n",
    "- requires deterministic estimate of each task time\n",
    "- requires precedence relationship\n",
    "\n",
    "## Step 1: Identifying tasks\n",
    "\n",
    "- Establish list of tasks to be completed\n",
    "- Each task should have beginning and end can be identified\n",
    "\n",
    "## Step 2&3: Precedence & Time estimates\n",
    "\n",
    "- Estimates can be ascertained using historical information or informed estimates\n",
    "- Determine if deterministic or probalistic task time, choose appropriate technique:\n",
    "    - **Deterministic:** CPM\n",
    "    - **Probalistic:** PERT\n",
    "- Precedent relationship determine the sequence of tasks\n",
    "\n",
    "## Step 4: Diagramming Network\n"
   ]
  },
  {
   "cell_type": "markdown",
   "metadata": {},
   "source": [
    "![Netmork Diagram Symbols](./assets/201711232200.PNG)\n",
    "\n",
    "**Advantages of Network Techniques:**\n",
    "- Project teams are forced to identify interrelationships between tasks\n",
    "- Easy to estimate completion time\n",
    "- Helps identify Critical tasks\n",
    "- Enables cost / time trade-off analysis\n",
    "\n",
    "**Ways to diagram network:**\n",
    "- **AON (Activity on Node):**\n",
    "    - nodes represent tasks\n",
    "    - arcs represent relationships between tasks\n",
    "- **AOA (Activity on Arc):**\n",
    "    - nodes represent start and end of tasks\n",
    "    - arcs represent tasks   "
   ]
  },
  {
   "cell_type": "markdown",
   "metadata": {},
   "source": [
    "### Network Diagram Explanation\n",
    "\n",
    "![First Diagram Explanation](./assets/201711241115.PNG)\n",
    "![Second Diagram Explanation](./assets/201711241118.PNG)\n",
    "![Third Diagram Explanation](./assets/201711241119.PNG)"
   ]
  },
  {
   "cell_type": "markdown",
   "metadata": {},
   "source": [
    "## Step 5: Identify Critical Path\n",
    "\n",
    "**Critical Path:** Path that takes the longest time to travel for start to end\n",
    "\n",
    "**CPM can help with:**\n",
    "- Finding critical path\n",
    "- Identify start and end time for each task\n",
    "- Calculate slack time for each task\n",
    "\n",
    "**First approach to find critical path**\n",
    "1. Specify schedule for each task\n",
    "2. Arrange tasks based on start and end time\n",
    "3. Identify critical path by tracking all paths from start to end, then choosing the longest path\n",
    "\n",
    "**Second approach to find critical path**\n",
    "\n",
    "1. Calculate **ES-EF-LS-LF**\n",
    "    - **ES:** Earliest Start time. When is the earliest the task can begin?  \n",
    "    - **LS:** Latest Start time. When is the latest the task can begin AND not delay the system? (*given LS*) \n",
    "    - **EF:** Earliest Finish time. When is the earliest the task can end *given ES*?\n",
    "    - **LS:** Latest Finish time. When is the latest the task can end AND not delay the system?  \n",
    "\n",
    "2. Calculate Slack **= LS - ES**  \n",
    "3. Tasks with **Slack = 0** are on the critical path\n",
    "\n",
    "\n",
    "\n"
   ]
  },
  {
   "cell_type": "markdown",
   "metadata": {},
   "source": [
    "# Lesson 3: Crashing Networks\n",
    "\n",
    "## Cost-Time Trade-Offs\n",
    "\n",
    "**Crashing:** Projects may be crashed in order to shorten its duration  \n",
    "\n",
    "*Note: In this case, we will talk about crashing in relation to cost*  \n",
    "\n",
    "Cost to crash per period = $\\frac{\\boldsymbol{\\text{CC} - \\text{NC}}}{\\boldsymbol{\\text{NT} - \\text{CT}}}$  \n",
    "\n",
    "where,\n",
    "- __NT:__ Normal Time\n",
    "- __NC:__ Normal Cost\n",
    "- __CT:__ Crash Time\n",
    "- __CC:__ Crash Cost\n",
    "\n",
    "![Cost-Time Relationship](./assets/201711301553.PNG)\n"
   ]
  }
 ],
 "metadata": {
  "kernelspec": {
   "display_name": "Python [default]",
   "language": "python",
   "name": "python3"
  },
  "language_info": {
   "codemirror_mode": {
    "name": "ipython",
    "version": 3
   },
   "file_extension": ".py",
   "mimetype": "text/x-python",
   "name": "python",
   "nbconvert_exporter": "python",
   "pygments_lexer": "ipython3",
   "version": "3.6.3"
  }
 },
 "nbformat": 4,
 "nbformat_minor": 2
}
