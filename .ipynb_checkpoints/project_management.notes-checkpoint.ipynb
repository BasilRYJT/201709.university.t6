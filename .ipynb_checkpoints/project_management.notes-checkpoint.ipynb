{
 "cells": [
  {
   "cell_type": "markdown",
   "metadata": {},
   "source": [
    "# Overview\n",
    "\n",
    "- Lesson 1: Introduction\n",
    "    - \n",
    "\n"
   ]
  },
  {
   "cell_type": "markdown",
   "metadata": {},
   "source": [
    "\n",
    "\n",
    "# Lesson 1\n",
    "\n",
    "## Transformation Process\n",
    "\n",
    "We can represent operations as a system of transformation processes "
   ]
  },
  {
   "cell_type": "markdown",
   "metadata": {},
   "source": [
    "![Example of a Transformation Process](./assets/201711232039.PNG)\n",
    "\n"
   ]
  },
  {
   "cell_type": "markdown",
   "metadata": {},
   "source": [
    "\n",
    "### Types of Transformation Process\n",
    "\n",
    "- **Physical:** Manufacturing operations\n",
    "- **Locational:** Transportation operations\n",
    "- **Exchange:** Retail operations\n",
    "- **Physiological:** as in Healthcare\n",
    "- **Psychological:** as in Entertainment\n",
    "- **Informational:** as in Communication\n",
    "\n"
   ]
  },
  {
   "cell_type": "markdown",
   "metadata": {},
   "source": [
    "## Defining Projects\n",
    "\n",
    "**Projects are a set of tasks that:**\n",
    "- relate to one another\n",
    "- have specific objectives to be completed with specific specifications\n",
    "- have start and end dates\n",
    "- have funding limits\n",
    "- consume resources\n",
    "\n",
    "**Projects can create:**\n",
    "- A product\n",
    "- A service\n",
    "- Improvements to existing products  \n",
    "  \n",
    "**Note: projects are not to be confused with repetitive/routine tasks**\n"
   ]
  },
  {
   "cell_type": "markdown",
   "metadata": {},
   "source": [
    "\n",
    "## Project Life Cycle\n",
    "\n",
    "\n"
   ]
  },
  {
   "cell_type": "markdown",
   "metadata": {},
   "source": [
    "![Project Life Cycle Diagram](./assets/201711232103.PNG)"
   ]
  },
  {
   "cell_type": "code",
   "execution_count": null,
   "metadata": {
    "collapsed": true
   },
   "outputs": [],
   "source": []
  }
 ],
 "metadata": {
  "kernelspec": {
   "display_name": "Python [conda env:MLClass]",
   "language": "python",
   "name": "conda-env-MLClass-py"
  },
  "language_info": {
   "codemirror_mode": {
    "name": "ipython",
    "version": 3
   },
   "file_extension": ".py",
   "mimetype": "text/x-python",
   "name": "python",
   "nbconvert_exporter": "python",
   "pygments_lexer": "ipython3",
   "version": "3.5.4"
  }
 },
 "nbformat": 4,
 "nbformat_minor": 2
}
